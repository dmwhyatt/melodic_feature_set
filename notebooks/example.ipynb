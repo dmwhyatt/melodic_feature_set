{
 "cells": [
  {
   "cell_type": "markdown",
   "id": "0fff355a",
   "metadata": {},
   "source": [
    "## Melody Features"
   ]
  },
  {
   "cell_type": "markdown",
   "id": "33c5ce29",
   "metadata": {},
   "source": [
    "This notebook seeks to illustrate how to use the Melodic Feature Set. The feature set is accessed using the top level function `get_all_features`. This function computes a wide range of features on every melody found in the input directory, returning a single .csv file with all melodies and their features. "
   ]
  },
  {
   "cell_type": "code",
   "execution_count": null,
   "id": "9aa17495",
   "metadata": {},
   "outputs": [],
   "source": [
    "from melody_features import get_all_features\n",
    "from melody_features.corpus import get_corpus_files\n",
    "\n",
    "first_ten_essen = get_corpus_files('essen', max_files=10)\n",
    "\n",
    "get_all_features(first_ten_essen, 'output1.csv')\n"
   ]
  },
  {
   "cell_type": "code",
   "execution_count": null,
   "id": "c74bb5a5",
   "metadata": {},
   "outputs": [],
   "source": [
    "import pandas as pd\n",
    "\n",
    "# Read and display first 5 rows\n",
    "df = pd.read_csv('output1.csv')\n",
    "df.head()"
   ]
  },
  {
   "cell_type": "markdown",
   "id": "f4418e8b",
   "metadata": {},
   "source": [
    "The feature set has a few customisable aspects that change the behaviour of some of the feature calculations. There is no requirement to customise this configuration, as sensible values recommended in the literature are supplied as defaults. However, for users seeking more control over the behaviour of FANTASTIC and IDyOM, the `Config` dataclass is provided:"
   ]
  },
  {
   "cell_type": "code",
   "execution_count": null,
   "id": "ce6e8ea9",
   "metadata": {},
   "outputs": [],
   "source": [
    "# Import the Config dataclasses\n",
    "from melody_features.features import Config, IDyOMConfig, FantasticConfig"
   ]
  },
  {
   "cell_type": "markdown",
   "id": "c6e219b1",
   "metadata": {},
   "source": [
    "Once we import these dataclasses, we can begin to customise our configuration:"
   ]
  },
  {
   "cell_type": "code",
   "execution_count": null,
   "id": "b83d4a97",
   "metadata": {},
   "outputs": [],
   "source": [
    "# Initialise the config object with the relevant parameters\n",
    "from melody_features import essen_corpus\n",
    "config = Config(\n",
    "    corpus=essen_corpus,\n",
    "    idyom={\"pitch\": IDyOMConfig(\n",
    "        target_viewpoints=[\"cpitch\"],\n",
    "        source_viewpoints=[(\"cpint\", \"cpintfref\")],\n",
    "        ppm_order=1,\n",
    "        models=\":both\"\n",
    "    )},\n",
    "        fantastic=FantasticConfig(\n",
    "        max_ngram_order=2,\n",
    "        phrase_gap=1.5\n",
    "    )\n",
    ")"
   ]
  },
  {
   "cell_type": "markdown",
   "id": "7f1ac66a",
   "metadata": {},
   "source": [
    "The `corpus` parameter operates on different levels. If you wish to use the same corpus for both FANTASTIC and IDyOM, you need only set it in the top level of `Config()`; you then do not need to supply it to `IDyOMConfig` or `FantasticConfig`. \n",
    "\n",
    "If you want to use different corpora for each different toolbox, `IDyOMConfig` and `FantasticConfig` will override whatever is supplied in the top level of `Config`."
   ]
  },
  {
   "cell_type": "code",
   "execution_count": null,
   "id": "340e265e",
   "metadata": {},
   "outputs": [],
   "source": [
    "# Initialise the config object with different corpora\n",
    "different_corpus_config = Config(\n",
    "    corpus=None, # will be overridden\n",
    "    idyom={\"pitch\": IDyOMConfig(\n",
    "        target_viewpoints=[\"cpitch\"],\n",
    "        source_viewpoints=[(\"cpint\", \"cpintfref\")],\n",
    "        ppm_order=1,\n",
    "        models=\":both\",\n",
    "        corpus=None\n",
    "    )},\n",
    "        fantastic=FantasticConfig(\n",
    "        max_ngram_order=2,\n",
    "        phrase_gap=1.5,\n",
    "        corpus=essen_corpus\n",
    "    )\n",
    ")\n",
    "\n",
    "get_all_features(first_ten_essen, \"output2.csv\", config=different_corpus_config)"
   ]
  },
  {
   "cell_type": "markdown",
   "id": "a1c75e9b",
   "metadata": {},
   "source": [
    "We can also supply multiple IDyOM configurations, allowing us to compute information content using different 'viewpoints' or corpora in one run of the feature set. This can be achieved like so:"
   ]
  },
  {
   "cell_type": "code",
   "execution_count": null,
   "id": "9fffc3ce-443c-4bfe-96e2-4828b5423a0a",
   "metadata": {},
   "outputs": [],
   "source": [
    "multi_idyom_config = Config(\n",
    "    corpus=essen_corpus,\n",
    "    idyom={\"pitch\": IDyOMConfig(\n",
    "        target_viewpoints=[\"cpitch\"],\n",
    "        source_viewpoints=[(\"cpint\", \"cpintfref\")],\n",
    "        ppm_order=1,\n",
    "        models=\":both\",\n",
    "        corpus=essen_corpus\n",
    "    ),\n",
    "    \"rhythm\": IDyOMConfig(\n",
    "        target_viewpoints=[\"onset\"],\n",
    "        source_viewpoints=[\"ioi\"],\n",
    "        ppm_order=1,\n",
    "        models=\":both\",\n",
    "        corpus=None\n",
    "    )},\n",
    "        fantastic=FantasticConfig(\n",
    "        max_ngram_order=2,\n",
    "        phrase_gap=1.5,\n",
    "        corpus=None\n",
    "    )\n",
    ")"
   ]
  },
  {
   "cell_type": "code",
   "execution_count": null,
   "id": "159eb476",
   "metadata": {},
   "outputs": [],
   "source": [
    "# Now we can get the different IDyOM features along with everything else\n",
    "get_all_features(first_ten_essen, \"output3.csv\", config=multi_idyom_config)"
   ]
  },
  {
   "cell_type": "code",
   "execution_count": null,
   "id": "6ce6510c-0b45-4600-a458-96da942b233b",
   "metadata": {},
   "outputs": [],
   "source": [
    "df = pd.read_csv('output3.csv')\n",
    "df.head()"
   ]
  },
  {
   "cell_type": "markdown",
   "id": "ded732de",
   "metadata": {},
   "source": [
    "As well as skipping corpus-dependent features, we can choose to skip IDyOM entirely if we like, as it can be quite time-consuming if you don't intend to use its output:"
   ]
  },
  {
   "cell_type": "code",
   "execution_count": null,
   "id": "c8b555c3",
   "metadata": {},
   "outputs": [],
   "source": [
    "get_all_features(first_ten_essen, \"output3_no_idyom.csv\", skip_idyom=True)"
   ]
  }
 ],
 "metadata": {
  "kernelspec": {
   "display_name": "Python 3",
   "language": "python",
   "name": "python3"
  },
  "language_info": {
   "codemirror_mode": {
    "name": "ipython",
    "version": 3
   },
   "file_extension": ".py",
   "mimetype": "text/x-python",
   "name": "python",
   "nbconvert_exporter": "python",
   "pygments_lexer": "ipython3",
   "version": "3.12.11"
  }
 },
 "nbformat": 4,
 "nbformat_minor": 5
}
